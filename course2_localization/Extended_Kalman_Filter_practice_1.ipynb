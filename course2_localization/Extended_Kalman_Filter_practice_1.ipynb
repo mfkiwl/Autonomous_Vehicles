{
  "nbformat": 4,
  "nbformat_minor": 0,
  "metadata": {
    "colab": {
      "name": "Extended_Kalman_Filter_practice_1.ipynb",
      "provenance": [],
      "collapsed_sections": []
    },
    "kernelspec": {
      "name": "python3",
      "display_name": "Python 3"
    },
    "language_info": {
      "name": "python"
    }
  },
  "cells": [
    {
      "cell_type": "markdown",
      "source": [
        "# Extended Kalman Filter sample question\n",
        "\n",
        "1. linearized motion model\n",
        "\n",
        "2. linearized measured model\n",
        "\n",
        "3. prediction\n",
        "\n",
        "4. optimal gain\n",
        "\n",
        "5. correction"
      ],
      "metadata": {
        "id": "U4dVkvbxYaXK"
      }
    },
    {
      "cell_type": "code",
      "source": [
        "import numpy as np\n",
        "\n",
        "class EKFSample():\n",
        "  def __init__(self):\n",
        "    self.x_0 = np.array([[0,5]], dtype=np.float).T\n",
        "    self.delta_t = 0.5\n",
        "    self.u = -2.\n",
        "    self.y_1 = np.pi/6\n",
        "    self.S = 20\n",
        "    self.D = 40\n",
        "    self.p_check = 0.0\n",
        "    self.P_check = np.array([[0.01,0],[0,1]], dtype=np.float)\n",
        "    # remind that x = [[p], [p_dot]] so p_check is x[0][0]\n",
        "\n",
        "    self.Jacobian = {\n",
        "        'F' : np.array([[1, self.delta_t],[0,1]], dtype=np.float),\n",
        "        'L': np.array([[1,0],[0,1]]),\n",
        "        'H' : self.Jacobian_H(self.p_check),\n",
        "        'M' : np.array([[1]]),\n",
        "        'Q' : np.array([[0.1,0],[0,0.1]]),\n",
        "        'R' : np.array([[0.01]])\n",
        "    }\n",
        "\n",
        "  def Jacobian_H(self, p_check):\n",
        "    arctan_compute = self.S/((self.D - p_check)**2 + self.S**2)\n",
        "    H = np.array([arctan_compute, 0], dtype=np.float)\n",
        "    print(f\"H matrix is {H}\")\n",
        "\n",
        "    return H\n",
        "\n",
        "  def _update_p(self, new_p, new_P):\n",
        "    self.p_check = new_p\n",
        "    self.P_check = new_P\n",
        "\n",
        "  def prediction(self, x_hat, w=0):\n",
        "    x_check = self._f(x_hat, self.u)\n",
        "    \n",
        "    p_check = x_check[0][0]\n",
        "    p_dot_check = x_check[1][0]\n",
        "\n",
        "    P_check = self.Jacobian['F'].dot(self.P_check).dot(self.Jacobian['F'].T) + self.Jacobian['L'].dot(self.Jacobian['Q']).dot(self.Jacobian['L'].T)\n",
        "    print(f\"p_check : {p_check}, p_dot_check : {p_dot_check}, P_check : {P_check}\")\n",
        "\n",
        "    self._update_p(p_check, P_check)\n",
        "    self.Jacobian['H'] = self.Jacobian_H(self.p_check) # update for every p update since init function is called only once :(\n",
        "\n",
        "    return x_check\n",
        "  \n",
        "  def _f(self, x_k_1, u_k_1, w_k_1 = 0):\n",
        "    ans = np.array([[1, self.delta_t], [0, 1]]).dot(x_k_1) + np.array([[0, self.delta_t]]).T*self.u\n",
        "    return ans\n",
        "\n",
        "  def _h(self, x_check, v =0):\n",
        "    ans = np.arctan(self.S/(self.D - x_check[0][0]))\n",
        "    return ans\n",
        "\n",
        "  def correction(self, x_check):\n",
        "    K_1 = self.Jacobian['H'].dot(self.P_check).dot(self.Jacobian['H'].T)\n",
        "    # print(f\"H : {self.Jacobian['H']}, P_check :  {self.P_check}, K_1 : {K_1}\")\n",
        "    K_2 = self.Jacobian['M'].dot(self.Jacobian['R']).dot(self.Jacobian['M'].T)\n",
        "    # print(f\"M : {self.Jacobian['M']}, R : {self.Jacobian['R']}, K_2 : {K_2}\")\n",
        "\n",
        "    K_3 = np.linalg.inv(K_1 + K_2)\n",
        "    K = self.P_check.dot(self.Jacobian['H'].T)*(K_3)\n",
        "    # print(f\"K_1 : {K_1}, K_2 : {K_2}, K_3 : {K_3}\")\n",
        "    # print(f\"P_check : {self.P_check}, H : {self.Jacobian['H']}, K : {K}\")\n",
        "\n",
        "    h_fn = self._h(x_check)\n",
        "    print(f\"h_fn : {h_fn}\")\n",
        "    print(f\"Y_1 : {self.y_1}\")\n",
        "\n",
        "    x_hat = x_check + K.T*(self.y_1 - h_fn)\n",
        "    return K, x_hat\n",
        "    \n",
        "if __name__ == \"__main__\":\n",
        "  # point 1 : _h fn and _f fn are TOTALLY different!\n",
        "  ekf = EKFSample()\n",
        "  x_0 = np.array([[0,5]]).T\n",
        "  x_check = ekf.prediction(x_0)\n",
        "  print(f\"x_check is : {x_check}\")\n",
        "\n",
        "  K, x_hat = ekf.correction(x_check)\n",
        "  print(f\"K is : {K}\")\n",
        "  print(f\"x_hat is : {x_hat}\")\n"
      ],
      "metadata": {
        "colab": {
          "base_uri": "https://localhost:8080/"
        },
        "id": "fysLE1uzaQFd",
        "outputId": "c46a03ab-bb66-45f5-b954-d7656881d13b"
      },
      "execution_count": 13,
      "outputs": [
        {
          "output_type": "stream",
          "name": "stdout",
          "text": [
            "H matrix is [0.01 0.  ]\n",
            "p_check : 2.5, p_dot_check : 4.0, P_check : [[0.36 0.5 ]\n",
            " [0.5  1.1 ]]\n",
            "H matrix is [0.01107266 0.        ]\n",
            "x_check is : [[2.5]\n",
            " [4. ]]\n",
            "h_fn : 0.4899573262537283\n",
            "Y_1 : 0.5235987755982988\n",
            "K is : [[0.39686426 0.55120036]]\n",
            "x_hat is : [[2.51335109]\n",
            " [4.01854318]]\n"
          ]
        },
        {
          "output_type": "stream",
          "name": "stderr",
          "text": [
            "/usr/local/lib/python3.7/dist-packages/ipykernel_launcher.py:5: DeprecationWarning: `np.float` is a deprecated alias for the builtin `float`. To silence this warning, use `float` by itself. Doing this will not modify any behavior and is safe. If you specifically wanted the numpy scalar type, use `np.float64` here.\n",
            "Deprecated in NumPy 1.20; for more details and guidance: https://numpy.org/devdocs/release/1.20.0-notes.html#deprecations\n",
            "  \"\"\"\n",
            "/usr/local/lib/python3.7/dist-packages/ipykernel_launcher.py:12: DeprecationWarning: `np.float` is a deprecated alias for the builtin `float`. To silence this warning, use `float` by itself. Doing this will not modify any behavior and is safe. If you specifically wanted the numpy scalar type, use `np.float64` here.\n",
            "Deprecated in NumPy 1.20; for more details and guidance: https://numpy.org/devdocs/release/1.20.0-notes.html#deprecations\n",
            "  if sys.path[0] == '':\n",
            "/usr/local/lib/python3.7/dist-packages/ipykernel_launcher.py:16: DeprecationWarning: `np.float` is a deprecated alias for the builtin `float`. To silence this warning, use `float` by itself. Doing this will not modify any behavior and is safe. If you specifically wanted the numpy scalar type, use `np.float64` here.\n",
            "Deprecated in NumPy 1.20; for more details and guidance: https://numpy.org/devdocs/release/1.20.0-notes.html#deprecations\n",
            "  app.launch_new_instance()\n",
            "/usr/local/lib/python3.7/dist-packages/ipykernel_launcher.py:26: DeprecationWarning: `np.float` is a deprecated alias for the builtin `float`. To silence this warning, use `float` by itself. Doing this will not modify any behavior and is safe. If you specifically wanted the numpy scalar type, use `np.float64` here.\n",
            "Deprecated in NumPy 1.20; for more details and guidance: https://numpy.org/devdocs/release/1.20.0-notes.html#deprecations\n"
          ]
        }
      ]
    },
    {
      "cell_type": "code",
      "source": [
        ""
      ],
      "metadata": {
        "id": "ciSbu7Y3hHJS"
      },
      "execution_count": null,
      "outputs": []
    }
  ]
}